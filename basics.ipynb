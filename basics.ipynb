{
 "cells": [
  {
   "cell_type": "markdown",
   "metadata": {},
   "source": [
    "Note: most of the code are taken from the book _Pro Deep Learning with TensorFlow_. I modified some code at the autoencoder part to understand what's going on."
   ]
  },
  {
   "cell_type": "code",
   "execution_count": 1,
   "metadata": {
    "scrolled": true
   },
   "outputs": [
    {
     "name": "stderr",
     "output_type": "stream",
     "text": [
      "/home/rluo/anaconda3/envs/py36/lib/python3.6/site-packages/h5py/__init__.py:36: FutureWarning: Conversion of the second argument of issubdtype from `float` to `np.floating` is deprecated. In future, it will be treated as `np.float64 == np.dtype(float).type`.\n",
      "  from ._conv import register_converters as _register_converters\n"
     ]
    }
   ],
   "source": [
    "import tensorflow as tf\n",
    "import numpy as np\n",
    "import matplotlib.pyplot as plt\n",
    "%matplotlib inline"
   ]
  },
  {
   "cell_type": "code",
   "execution_count": 2,
   "metadata": {
    "scrolled": true
   },
   "outputs": [
    {
     "data": {
      "text/plain": [
       "<tensorflow.python.client.session.InteractiveSession at 0x7fdd54a0def0>"
      ]
     },
     "execution_count": 2,
     "metadata": {},
     "output_type": "execute_result"
    }
   ],
   "source": [
    "tf.InteractiveSession()"
   ]
  },
  {
   "cell_type": "code",
   "execution_count": 3,
   "metadata": {},
   "outputs": [],
   "source": [
    "a = tf.zeros((2,2))\n",
    "b = tf.ones((2,2))"
   ]
  },
  {
   "cell_type": "code",
   "execution_count": 4,
   "metadata": {},
   "outputs": [
    {
     "data": {
      "text/plain": [
       "array([2., 2.], dtype=float32)"
      ]
     },
     "execution_count": 4,
     "metadata": {},
     "output_type": "execute_result"
    }
   ],
   "source": [
    "tf.reduce_sum(b, reduction_indices = 1).eval()"
   ]
  },
  {
   "cell_type": "code",
   "execution_count": 5,
   "metadata": {},
   "outputs": [
    {
     "data": {
      "text/plain": [
       "TensorShape([Dimension(2), Dimension(2)])"
      ]
     },
     "execution_count": 5,
     "metadata": {},
     "output_type": "execute_result"
    }
   ],
   "source": [
    "a.get_shape()"
   ]
  },
  {
   "cell_type": "code",
   "execution_count": 6,
   "metadata": {},
   "outputs": [
    {
     "data": {
      "text/plain": [
       "array([[0., 0., 0., 0.]], dtype=float32)"
      ]
     },
     "execution_count": 6,
     "metadata": {},
     "output_type": "execute_result"
    }
   ],
   "source": [
    "tf.reshape(a, (1, 4)).eval()"
   ]
  },
  {
   "cell_type": "code",
   "execution_count": 7,
   "metadata": {},
   "outputs": [
    {
     "data": {
      "text/plain": [
       "array([[0., 0.],\n",
       "       [0., 0.]], dtype=float32)"
      ]
     },
     "execution_count": 7,
     "metadata": {},
     "output_type": "execute_result"
    }
   ],
   "source": [
    "a.eval()"
   ]
  },
  {
   "cell_type": "code",
   "execution_count": 8,
   "metadata": {},
   "outputs": [],
   "source": [
    "a = tf.constant(1)\n",
    "b = tf.constant(5)\n",
    "c = a*b"
   ]
  },
  {
   "cell_type": "code",
   "execution_count": 9,
   "metadata": {},
   "outputs": [
    {
     "name": "stdout",
     "output_type": "stream",
     "text": [
      "5\n",
      "5\n"
     ]
    }
   ],
   "source": [
    "with tf.Session() as sess:\n",
    "    print(c.eval())\n",
    "    print(sess.run(c))"
   ]
  },
  {
   "cell_type": "code",
   "execution_count": 10,
   "metadata": {},
   "outputs": [],
   "source": [
    "w = tf.Variable(tf.ones(2,2), name='weights')"
   ]
  },
  {
   "cell_type": "code",
   "execution_count": 11,
   "metadata": {},
   "outputs": [
    {
     "name": "stdout",
     "output_type": "stream",
     "text": [
      "[1. 1.]\n"
     ]
    }
   ],
   "source": [
    "with tf.Session() as sess:\n",
    "    sess.run(tf.global_variables_initializer())\n",
    "    print(sess.run(w))"
   ]
  },
  {
   "cell_type": "code",
   "execution_count": 13,
   "metadata": {},
   "outputs": [],
   "source": [
    "rw = tf.Variable(tf.random_normal((2,2)), name='random_weights')"
   ]
  },
  {
   "cell_type": "code",
   "execution_count": 14,
   "metadata": {},
   "outputs": [
    {
     "name": "stdout",
     "output_type": "stream",
     "text": [
      "[[ 0.02202902 -0.00145234]\n",
      " [ 0.27352855 -1.0690036 ]]\n"
     ]
    }
   ],
   "source": [
    "with tf.Session() as sess:\n",
    "    sess.run(tf.global_variables_initializer())\n",
    "    print(sess.run(rw))"
   ]
  },
  {
   "cell_type": "code",
   "execution_count": 15,
   "metadata": {},
   "outputs": [
    {
     "name": "stdout",
     "output_type": "stream",
     "text": [
      "1\n",
      "2\n",
      "3\n",
      "4\n",
      "5\n"
     ]
    }
   ],
   "source": [
    "var_1 = tf.Variable(0, name='var_1')\n",
    "add_op = tf.add(var_1, tf.constant(1))\n",
    "upd_op = tf.assign(var_1, add_op)\n",
    "with tf.Session() as sess:\n",
    "    sess.run(tf.global_variables_initializer())\n",
    "    for i in range(5):\n",
    "        print(sess.run(upd_op))"
   ]
  },
  {
   "cell_type": "code",
   "execution_count": 16,
   "metadata": {},
   "outputs": [
    {
     "name": "stdout",
     "output_type": "stream",
     "text": [
      "[1, 1, 1, 1, 1]\n"
     ]
    }
   ],
   "source": [
    "with tf.Session() as sess:\n",
    "    sess.run(tf.global_variables_initializer())\n",
    "    print(sess.run([upd_op for i in range(5)]))"
   ]
  },
  {
   "cell_type": "code",
   "execution_count": 17,
   "metadata": {},
   "outputs": [
    {
     "name": "stdout",
     "output_type": "stream",
     "text": [
      "[5, 12]\n"
     ]
    }
   ],
   "source": [
    "x = tf.constant(1)\n",
    "y = tf.constant(5)\n",
    "z = tf.constant(7)\n",
    "\n",
    "mul_x_y = x * y\n",
    "final_op = mul_x_y + z\n",
    "\n",
    "with tf.Session() as sess:\n",
    "    print(sess.run([mul_x_y, final_op]))"
   ]
  },
  {
   "cell_type": "code",
   "execution_count": 18,
   "metadata": {},
   "outputs": [
    {
     "name": "stdout",
     "output_type": "stream",
     "text": [
      "[[1. 1. 1.]\n",
      " [1. 1. 1.]\n",
      " [1. 1. 1.]]\n"
     ]
    }
   ],
   "source": [
    "a = np.ones((3, 3))\n",
    "b = tf.convert_to_tensor(a)\n",
    "with tf.Session() as sess:\n",
    "    print(sess.run(b))"
   ]
  },
  {
   "cell_type": "code",
   "execution_count": 19,
   "metadata": {},
   "outputs": [
    {
     "name": "stdout",
     "output_type": "stream",
     "text": [
      "[array([[10.]], dtype=float32)]\n"
     ]
    }
   ],
   "source": [
    "inp1 = tf.placeholder(tf.float32, shape=(1, 2))\n",
    "inp2 = tf.placeholder(tf.float32, shape=(2, 1))\n",
    "output = tf.matmul(inp1, inp2)\n",
    "with tf.Session() as sess:\n",
    "    print(sess.run([output], feed_dict = {inp1:[[1, 3]], inp2:[[1], [3]]}))"
   ]
  },
  {
   "cell_type": "markdown",
   "metadata": {},
   "source": [
    "# XOR Implementation"
   ]
  },
  {
   "cell_type": "code",
   "execution_count": 31,
   "metadata": {},
   "outputs": [],
   "source": [
    "with tf.device('/device:GPU:1'), tf.variable_scope('xor', reuse=tf.AUTO_REUSE):\n",
    "    x_ = tf.placeholder(tf.float32, shape = [4, 2], name = 'x-input')\n",
    "    y_ = tf.placeholder(tf.float32, shape = [4, 1], name = 'y-input')\n",
    "    w1 = tf.Variable(tf.random_uniform([2, 2], -1, 1), name = 'Weights1')\n",
    "    w2 = tf.Variable(tf.random_uniform([2, 1], -1, 1), name = 'Weights2')\n",
    "    b1 = tf.Variable(tf.zeros([2]), name = 'Bias1')\n",
    "    b2 = tf.Variable(tf.zeros([1]), name = 'Bias2')\n",
    "    z2 = tf.sigmoid(tf.matmul(x_, w1) + b1)\n",
    "    pred = tf.sigmoid(tf.matmul(z2, w2) + b2)\n",
    "    cost = tf.reduce_mean(\n",
    "        ((y_ * tf.log(pred)) + ((1 - y_) * tf.log(1 - pred))) * -1\n",
    "    )\n",
    "    learning_rate = 0.01\n",
    "    train_step = tf.train.GradientDescentOptimizer(learning_rate).minimize(cost)\n",
    "    init = tf.global_variables_initializer()\n",
    "\n",
    "saver = tf.train.Saver()"
   ]
  },
  {
   "cell_type": "code",
   "execution_count": 32,
   "metadata": {},
   "outputs": [],
   "source": [
    "# Define input data\n",
    "xor_x = [[0, 0], [0, 1], [1, 0], [1, 1]]\n",
    "xor_y = [[0], [1], [1], [0]]"
   ]
  },
  {
   "cell_type": "code",
   "execution_count": 33,
   "metadata": {
    "scrolled": true
   },
   "outputs": [],
   "source": [
    "cost_log = []\n",
    "pred_log = []\n",
    "with tf.Session() as sess:\n",
    "    sess.run(init)\n",
    "    for i in range(100000):\n",
    "        sess.run(train_step, feed_dict = {x_: xor_x, y_: xor_y})\n",
    "        if (i + 1) % 1000 == 0:\n",
    "            cost_log.append(sess.run(cost, feed_dict = {x_: xor_x, y_: xor_y}))\n",
    "        if (i + 1) % 1000 == 0:\n",
    "            pred_log.append(sess.run(pred, feed_dict = {x_: xor_x, y_: xor_y}))\n",
    "    saver.save(sess, 'xor/xor.chkp')"
   ]
  },
  {
   "cell_type": "code",
   "execution_count": 34,
   "metadata": {},
   "outputs": [],
   "source": [
    "pred_log = np.array(pred_log)"
   ]
  },
  {
   "cell_type": "code",
   "execution_count": 35,
   "metadata": {},
   "outputs": [
    {
     "data": {
      "image/png": "[encoded data removed]",
      "text/plain": [
       "<matplotlib.figure.Figure at 0x7f0e680ddd30>"
      ]
     },
     "metadata": {},
     "output_type": "display_data"
    }
   ],
   "source": [
    "plt.figure(figsize=(20,5))\n",
    "plt.subplot(121)\n",
    "plt.plot(cost_log)\n",
    "plt.title('Loss')\n",
    "plt.subplot(122)\n",
    "pred_t = np.array(pred_log)[:, :, 0].transpose()\n",
    "for i in range(4):\n",
    "    plt.plot(pred_t[i], label=f'{xor_x[i]}')\n",
    "    plt.legend(bbox_to_anchor=(1.05, 1), loc=2, borderaxespad=0.)\n",
    "plt.title('Accuracy')\n",
    "plt.subplots_adjust(left=0.2, wspace=0.8, top=0.8)\n",
    "plt.show()"
   ]
  },
  {
   "cell_type": "code",
   "execution_count": 54,
   "metadata": {
    "scrolled": true
   },
   "outputs": [
    {
     "name": "stdout",
     "output_type": "stream",
     "text": [
      "INFO:tensorflow:Restoring parameters from xor/xor.chkp\n",
      "Final prediction:\n",
      "[0, 0]: [0.02470798]\n",
      "[0, 1]: [0.963015]\n",
      "[1, 0]: [0.96293]\n",
      "[1, 1]: [0.03779969]\n"
     ]
    }
   ],
   "source": [
    "with tf.Session() as sess:\n",
    "    sess.run(init)\n",
    "    saver.restore(sess, 'xor/xor.chkp')\n",
    "    final_pred = sess.run(pred, feed_dict = {x_: xor_x, y_: xor_y})\n",
    "    res = {str(xor_x[i]):final_pred[i] for i in range(4)}\n",
    "    print('Final prediction:')\n",
    "    for key in res:\n",
    "        print(f'{key}: {res[key]}')"
   ]
  },
  {
   "cell_type": "markdown",
   "metadata": {},
   "source": [
    "## XOR with Linear Activation"
   ]
  },
  {
   "cell_type": "code",
   "execution_count": 2,
   "metadata": {},
   "outputs": [],
   "source": [
    "with tf.device('/device:GPU:1'), tf.variable_scope('xor_linear', reuse=tf.AUTO_REUSE):\n",
    "    x_ = tf.placeholder(tf.float32, shape = [4, 2], name = 'x-input')\n",
    "    y_ = tf.placeholder(tf.float32, shape = [4, 1], name = 'y-input')\n",
    "    w1 = tf.Variable(tf.random_uniform([2, 2], -1, 1), name = 'Weights1')\n",
    "    w2 = tf.Variable(tf.random_uniform([2, 1], -1, 1), name = 'Weights2')\n",
    "    b1 = tf.Variable(tf.zeros([2]), name = 'Bias1')\n",
    "    b2 = tf.Variable(tf.zeros([1]), name = 'Bias2')\n",
    "    z2 = tf.matmul(x_, w1) + b1\n",
    "    pred = tf.sigmoid(tf.matmul(z2, w2) + b2)\n",
    "    cost = tf.reduce_mean(\n",
    "        ((y_ * tf.log(pred)) + ((1 - y_) * tf.log(1 - pred))) * -1\n",
    "    )\n",
    "    learning_rate = 0.01\n",
    "    train_step = tf.train.GradientDescentOptimizer(learning_rate).minimize(cost)\n",
    "    init = tf.global_variables_initializer()\n",
    "\n",
    "saver = tf.train.Saver()"
   ]
  },
  {
   "cell_type": "code",
   "execution_count": 3,
   "metadata": {},
   "outputs": [],
   "source": [
    "xor_x = [[0, 0], [0, 1], [1, 0], [1, 1]]\n",
    "xor_y = [[0], [1], [1], [0]]"
   ]
  },
  {
   "cell_type": "code",
   "execution_count": 7,
   "metadata": {
    "scrolled": true
   },
   "outputs": [],
   "source": [
    "cost_log = []\n",
    "pred_log = []\n",
    "with tf.Session() as sess:\n",
    "    sess.run(init)\n",
    "    for i in range(100000):\n",
    "        sess.run(train_step, feed_dict = {x_: xor_x, y_: xor_y})\n",
    "        if (i + 1) % 1000 == 0:\n",
    "            cost_log.append(sess.run(cost, feed_dict = {x_: xor_x, y_: xor_y}))\n",
    "        if (i + 1) % 1000 == 0:\n",
    "            pred_log.append(sess.run(pred, feed_dict = {x_: xor_x, y_: xor_y}))\n",
    "    saver.save(sess, 'xor/xor_linear.chkp')"
   ]
  },
  {
   "cell_type": "code",
   "execution_count": 30,
   "metadata": {},
   "outputs": [
    {
     "data": {
      "image/png": "[encoded data removed]",
      "text/plain": [
       "<matplotlib.figure.Figure at 0x7f0e683a9630>"
      ]
     },
     "metadata": {},
     "output_type": "display_data"
    }
   ],
   "source": [
    "plt.figure(figsize=(20,5))\n",
    "plt.subplot(121)\n",
    "plt.plot(cost_log)\n",
    "plt.title('Loss')\n",
    "plt.subplot(122)\n",
    "pred_t = np.array(pred_log)[:, :, 0].transpose()\n",
    "for i in range(4):\n",
    "    plt.plot(pred_t[i], label=f'{xor_x[i]}')\n",
    "    plt.legend(bbox_to_anchor=(1.05, 1), loc=2, borderaxespad=0.)\n",
    "plt.title('Accuracy')\n",
    "plt.subplots_adjust(left=0.2, wspace=0.8, top=0.8)\n",
    "plt.show()"
   ]
  },
  {
   "cell_type": "code",
   "execution_count": 9,
   "metadata": {
    "scrolled": true
   },
   "outputs": [
    {
     "name": "stdout",
     "output_type": "stream",
     "text": [
      "INFO:tensorflow:Restoring parameters from xor/xor_linear.chkp\n",
      "Final prediction:\n",
      "[0, 0]: [0.5]\n",
      "[0, 1]: [0.5]\n",
      "[1, 0]: [0.5]\n",
      "[1, 1]: [0.5]\n"
     ]
    }
   ],
   "source": [
    "with tf.Session() as sess:\n",
    "    sess.run(init)\n",
    "    saver.restore(sess, 'xor/xor_linear.chkp')\n",
    "    final_pred = sess.run(pred, feed_dict = {x_: xor_x, y_: xor_y})\n",
    "    res = {str(xor_x[i]):final_pred[i] for i in range(4)}\n",
    "    print('Final prediction:')\n",
    "    for key in res:\n",
    "        print(f'{key}: {res[key]}')"
   ]
  },
  {
   "cell_type": "markdown",
   "metadata": {},
   "source": [
    "# MNIST"
   ]
  },
  {
   "cell_type": "markdown",
   "metadata": {},
   "source": [
    "### Full Batch Gradient Descent"
   ]
  },
  {
   "cell_type": "code",
   "execution_count": 10,
   "metadata": {},
   "outputs": [],
   "source": [
    "import tensorflow as tf\n",
    "import numpy as np\n",
    "from sklearn import datasets\n",
    "from tensorflow.examples.tutorials.mnist import input_data\n",
    "import matplotlib.pyplot as plt"
   ]
  },
  {
   "cell_type": "code",
   "execution_count": 11,
   "metadata": {},
   "outputs": [],
   "source": [
    "def read_infile():\n",
    "    mnist = input_data.read_data_sets(\"MNIST_data/\", one_hot = True)\n",
    "    train_X, train_Y, test_X, test_Y = mnist.train.images, mnist.train.labels, mnist.test.images, mnist.test.labels\n",
    "    return train_X, train_Y, test_X, test_Y"
   ]
  },
  {
   "cell_type": "code",
   "execution_count": 12,
   "metadata": {},
   "outputs": [],
   "source": [
    "def weights_biases_placeholder(n_dim, n_classes):\n",
    "    X = tf.placeholder(tf.float32, [None, n_dim]) # None means the dimension is variable\n",
    "    Y = tf.placeholder(tf.float32, [None, n_classes])\n",
    "    w = tf.Variable(tf.random_normal([n_dim, n_classes], stddev = 0.01), name = 'weights')\n",
    "    b = tf.Variable(tf.random_normal([n_classes]), name = 'biases')\n",
    "    return X, Y, w, b"
   ]
  },
  {
   "cell_type": "code",
   "execution_count": 13,
   "metadata": {},
   "outputs": [],
   "source": [
    "def forward_pass(w, b, X):\n",
    "    out = tf.matmul(X, w) + b\n",
    "    return out"
   ]
  },
  {
   "cell_type": "code",
   "execution_count": 14,
   "metadata": {},
   "outputs": [],
   "source": [
    "def multiclass_cost(out, Y):\n",
    "    cost = tf.reduce_mean(tf.nn.softmax_cross_entropy_with_logits(logits = out, labels = Y))\n",
    "    return cost"
   ]
  },
  {
   "cell_type": "code",
   "execution_count": 15,
   "metadata": {},
   "outputs": [],
   "source": [
    "def train_op(learning_rate, cost):\n",
    "    op_train = tf.train.GradientDescentOptimizer(learning_rate).minimize(cost)\n",
    "    return op_train"
   ]
  },
  {
   "cell_type": "code",
   "execution_count": 37,
   "metadata": {},
   "outputs": [
    {
     "name": "stdout",
     "output_type": "stream",
     "text": [
      "Extracting MNIST_data/train-images-idx3-ubyte.gz\n",
      "Extracting MNIST_data/train-labels-idx1-ubyte.gz\n",
      "Extracting MNIST_data/t10k-images-idx3-ubyte.gz\n",
      "Extracting MNIST_data/t10k-labels-idx1-ubyte.gz\n"
     ]
    }
   ],
   "source": [
    "train_X, train_Y, test_X, test_Y = read_infile()\n",
    "with tf.device('/device:GPU:1'), tf.variable_scope('mnist_full_batch_gd', reuse=tf.AUTO_REUSE):\n",
    "    X, Y, w, b = weights_biases_placeholder(train_X.shape[1], train_Y.shape[1])\n",
    "    out = forward_pass(w, b, X)\n",
    "    cost = multiclass_cost(out, Y)\n",
    "    learning_rate, epochs = 0.01, 1000\n",
    "    op_train = train_op(learning_rate, cost)\n",
    "    init = tf.global_variables_initializer()\n",
    "    \n",
    "saver = tf.train.Saver()\n",
    "loss_trace = []\n",
    "accuracy_trace = []"
   ]
  },
  {
   "cell_type": "code",
   "execution_count": 38,
   "metadata": {
    "scrolled": true
   },
   "outputs": [
    {
     "name": "stdout",
     "output_type": "stream",
     "text": [
      "Final training result -- loss: 0.6294927000999451, accuracy: 0.847690909090909\n"
     ]
    }
   ],
   "source": [
    "with tf.Session() as sess:\n",
    "    sess.run(init)\n",
    "\n",
    "    for i in range(epochs):\n",
    "        sess.run(op_train, feed_dict = {X: train_X, Y: train_Y})\n",
    "        loss_ = sess.run(cost, feed_dict = {X: train_X, Y: train_Y})\n",
    "        accuracy_ = np.mean(\n",
    "            np.argmax(\n",
    "                sess.run(out, feed_dict = {X: train_X, Y: train_Y}),\n",
    "                axis = 1) == np.argmax(train_Y, axis = 1))\n",
    "        loss_trace.append(loss_)\n",
    "        accuracy_trace.append(accuracy_)\n",
    "\n",
    "    print(f'Final training result -- loss: {loss_}, accuracy: {accuracy_}')\n",
    "    loss_test = sess.run(cost, feed_dict = {X: test_X, Y: test_Y})\n",
    "    test_pred = np.argmax(sess.run(out, feed_dict = {X: test_X, Y: test_Y}), axis = 1)\n",
    "    accuracy_test = np.mean(test_pred == np.argmax(test_Y, axis = 1))\n",
    "    \n",
    "    saver.save(sess, 'mnist/mnist_full_batch_gd.chkp')\n",
    "    "
   ]
  },
  {
   "cell_type": "code",
   "execution_count": 40,
   "metadata": {},
   "outputs": [
    {
     "data": {
      "image/png": "[encoded data removed]",
      "text/plain": [
       "<matplotlib.figure.Figure at 0x7f0e6808f3c8>"
      ]
     },
     "metadata": {},
     "output_type": "display_data"
    }
   ],
   "source": [
    "plt.figure(figsize=(20,5))\n",
    "plt.subplot(121)\n",
    "plt.plot(loss_trace)\n",
    "plt.title('Loss')\n",
    "plt.subplot(122)\n",
    "plt.plot(accuracy_trace)\n",
    "plt.title('Accuracy')\n",
    "plt.subplots_adjust(left=0.2, wspace=0.8, top=0.8)\n",
    "plt.show()"
   ]
  },
  {
   "cell_type": "code",
   "execution_count": 22,
   "metadata": {
    "scrolled": true
   },
   "outputs": [
    {
     "name": "stdout",
     "output_type": "stream",
     "text": [
      "Actual_digits:    [7 2 1 0 4 1 4 9 5 9]\n",
      "Predicted digits: [7 2 1 0 4 1 4 9 2 9]\n",
      "Actual images of the digits:\n"
     ]
    },
    {
     "data": {
      "image/png": "[encoded data removed]",
      "text/plain": [
       "<matplotlib.figure.Figure at 0x7f0e43f66a58>"
      ]
     },
     "metadata": {},
     "output_type": "display_data"
    }
   ],
   "source": [
    "%matplotlib inline\n",
    "f, a = plt.subplots(1, 10, figsize = (10, 2))\n",
    "print('Actual_digits:    {}'.format(np.argmax(test_Y[0:10], axis = 1)))\n",
    "print('Predicted digits: {}'.format(test_pred[0:10]))\n",
    "print('Actual images of the digits:')\n",
    "for i in range(10):\n",
    "    a[i].imshow(np.reshape(test_X[i], (28, 28)), cmap='gray')"
   ]
  },
  {
   "cell_type": "markdown",
   "metadata": {},
   "source": [
    "### Stochastic Gradient Descent"
   ]
  },
  {
   "cell_type": "code",
   "execution_count": 42,
   "metadata": {},
   "outputs": [
    {
     "name": "stdout",
     "output_type": "stream",
     "text": [
      "Extracting MNIST_data/train-images-idx3-ubyte.gz\n",
      "Extracting MNIST_data/train-labels-idx1-ubyte.gz\n",
      "Extracting MNIST_data/t10k-images-idx3-ubyte.gz\n",
      "Extracting MNIST_data/t10k-labels-idx1-ubyte.gz\n"
     ]
    }
   ],
   "source": [
    "train_X, train_Y, test_X, test_Y = read_infile()\n",
    "with tf.device('/device:GPU:1'), tf.variable_scope('mnist_sgd', reuse=tf.AUTO_REUSE):\n",
    "    X, Y, w, b = weights_biases_placeholder(train_X.shape[1], train_Y.shape[1])\n",
    "    out = forward_pass(w, b, X)\n",
    "    cost = multiclass_cost(out, Y)\n",
    "    learning_rate, epochs, batch_size = 0.01, 1000, 1000\n",
    "    num_batches = train_X.shape[0] // batch_size\n",
    "    op_train = train_op(learning_rate, cost)\n",
    "    init = tf.global_variables_initializer()\n",
    "\n",
    "saver = tf.train.Saver()\n",
    "epoch_cost_trace = []\n",
    "epoch_accuracy_trace = []"
   ]
  },
  {
   "cell_type": "code",
   "execution_count": 44,
   "metadata": {
    "scrolled": true
   },
   "outputs": [
    {
     "name": "stdout",
     "output_type": "stream",
     "text": [
      "Final training result -- Loss: 0.2841893345117569, Accuracy: 0.9206909090909091\n",
      "results on test dataset -- Loss: 0.2811605930328369, Accuracy: 0.9207\n"
     ]
    }
   ],
   "source": [
    "with tf.Session() as sess:\n",
    "    sess.run(init)\n",
    "\n",
    "    for i in range(epochs):\n",
    "        epoch_cost, epoch_accuracy = 0, 0\n",
    "\n",
    "        for j in range(num_batches):\n",
    "            sess.run(op_train, feed_dict = {X: train_X[(j*batch_size):((j+1)*batch_size)],\n",
    "                                            Y: train_Y[(j*batch_size):((j+1)*batch_size)]})\n",
    "            actual_batch_size = train_X[(j*batch_size):((j+1)*batch_size)].shape[0]\n",
    "            epoch_cost += actual_batch_size * sess.run(\n",
    "                cost, feed_dict = {X: train_X[(j*batch_size):((j+1)*batch_size)],\n",
    "                                   Y: train_Y[(j*batch_size):((j+1)*batch_size)]})\n",
    "\n",
    "        epoch_cost = epoch_cost / float(train_X.shape[0])\n",
    "        epoch_accuracy = np.mean(\n",
    "            np.argmax(\n",
    "                sess.run(out, feed_dict = {X: train_X, Y: train_Y}),\n",
    "                axis = 1) == np.argmax(train_Y, axis = 1))\n",
    "\n",
    "        epoch_cost_trace.append(epoch_cost)\n",
    "        epoch_accuracy_trace.append(epoch_accuracy)\n",
    "\n",
    "    print(f'Final training result -- Loss: {epoch_cost}, Accuracy: {epoch_accuracy}')\n",
    "    loss_test = sess.run(cost, feed_dict = {X: test_X, Y: test_Y})\n",
    "    test_pred = np.argmax(sess.run(out, feed_dict = {X: test_X, Y: test_Y}), axis = 1)\n",
    "    accuracy_test = np.mean(test_pred == np.argmax(test_Y, axis = 1))\n",
    "    print(f'results on test dataset -- Loss: {loss_test}, Accuracy: {accuracy_test}')\n",
    "    \n",
    "    saver.save(sess, 'mnist/mnist_sgd.chkp')\n",
    "    "
   ]
  },
  {
   "cell_type": "code",
   "execution_count": 47,
   "metadata": {},
   "outputs": [
    {
     "data": {
      "image/png": "[encoded data removed]",
      "text/plain": [
       "<matplotlib.figure.Figure at 0x7f0e43d4e080>"
      ]
     },
     "metadata": {},
     "output_type": "display_data"
    }
   ],
   "source": [
    "plt.figure(figsize=(20,5))\n",
    "plt.subplot(121)\n",
    "plt.plot(epoch_cost_trace)\n",
    "plt.title('Epoch Loss')\n",
    "plt.subplot(122)\n",
    "plt.plot(epoch_accuracy_trace)\n",
    "plt.title('Epoch Accuracy')\n",
    "plt.subplots_adjust(left=0.2, wspace=0.8, top=0.8)\n",
    "plt.show()"
   ]
  },
  {
   "cell_type": "code",
   "execution_count": 50,
   "metadata": {
    "scrolled": true
   },
   "outputs": [
    {
     "name": "stdout",
     "output_type": "stream",
     "text": [
      "Actual_digits:    [7 2 1 0 4 1 4 9 5 9]\n",
      "Predicted digits: [7 2 1 0 4 1 4 9 6 9]\n",
      "Actual images of the digits:\n"
     ]
    },
    {
     "data": {
      "image/png": "[encoded data removed]",
      "text/plain": [
       "<matplotlib.figure.Figure at 0x7f0e683d3e10>"
      ]
     },
     "metadata": {},
     "output_type": "display_data"
    }
   ],
   "source": [
    "import matplotlib.pyplot as plt\n",
    "%matplotlib inline\n",
    "f, a = plt.subplots(1, 10, figsize = (10, 2))\n",
    "print('Actual_digits:    {}'.format(np.argmax(test_Y[0:10], axis = 1)))\n",
    "print('Predicted digits: {}'.format(test_pred[0:10]))\n",
    "print('Actual images of the digits:')\n",
    "for j in range(10):\n",
    "    a[j].imshow(np.reshape(test_X[j], (28, 28)), cmap='gray')"
   ]
  },
  {
   "cell_type": "markdown",
   "metadata": {},
   "source": [
    "### MLP with SGD + Momentum"
   ]
  },
  {
   "cell_type": "code",
   "execution_count": 51,
   "metadata": {},
   "outputs": [],
   "source": [
    "def mlp_weights_biases_placeholder(n_dim, n_hidden, n_classes):\n",
    "    num_layers = len(n_hidden)\n",
    "    X = tf.placeholder(tf.float32, [None, n_dim]) # None means the dimension is variable\n",
    "    Y = tf.placeholder(tf.float32, [None, n_classes])\n",
    "    w = []\n",
    "    b = []\n",
    "    w.append(tf.Variable(tf.random_normal([n_dim, n_hidden[0]], stddev = 0.01), name = 'W0'))\n",
    "    b.append(tf.Variable(tf.random_normal([n_hidden[0]]), name = 'b0'))\n",
    "    if len(n_hidden) > 1:\n",
    "        for i in range(1, num_layers):\n",
    "            w.append(tf.Variable(tf.random_normal([n_hidden[i-1], n_hidden[i]], stddev = 0.01), name = f'W{i}'))\n",
    "            b.append(tf.Variable(tf.random_normal([n_hidden[i]]), name = f'b{i}'))\n",
    "    w.append(tf.Variable(tf.random_normal([n_hidden[num_layers - 1], n_classes], stddev = 0.01), name = f'W{num_layers}'))\n",
    "    b.append(tf.Variable(tf.random_normal([n_classes]), name = f'b{num_layers}'))\n",
    "    return X, Y, w, b"
   ]
  },
  {
   "cell_type": "code",
   "execution_count": 52,
   "metadata": {},
   "outputs": [],
   "source": [
    "def mlp_forward_pass(w, b, X):\n",
    "    assert len(w) == len(b)\n",
    "    out = X\n",
    "    for i in range(len(w) - 1):\n",
    "        out = tf.matmul(out, w[i]) + b[i]\n",
    "        out = tf.nn.relu(out)\n",
    "    out = tf.matmul(out, w[len(w) - 1]) + b[len(w) - 1]\n",
    "    return out"
   ]
  },
  {
   "cell_type": "code",
   "execution_count": 53,
   "metadata": {},
   "outputs": [],
   "source": [
    "def mlp_train_op(learning_rate, momentum, cost):\n",
    "    op_train = tf.train.MomentumOptimizer(\n",
    "        learning_rate = learning_rate, momentum = momentum, use_nesterov = True).minimize(cost)\n",
    "    return op_train"
   ]
  },
  {
   "cell_type": "code",
   "execution_count": 54,
   "metadata": {},
   "outputs": [
    {
     "name": "stdout",
     "output_type": "stream",
     "text": [
      "Extracting MNIST_data/train-images-idx3-ubyte.gz\n",
      "Extracting MNIST_data/train-labels-idx1-ubyte.gz\n",
      "Extracting MNIST_data/t10k-images-idx3-ubyte.gz\n",
      "Extracting MNIST_data/t10k-labels-idx1-ubyte.gz\n"
     ]
    }
   ],
   "source": [
    "train_X, train_Y, test_X, test_Y = read_infile()\n",
    "with tf.device('/device:GPU:1'), tf.variable_scope('mnist_mlp_momentum', reuse=tf.AUTO_REUSE):\n",
    "    X, Y, w, b = mlp_weights_biases_placeholder(train_X.shape[1], [64, 16], train_Y.shape[1])\n",
    "    out = mlp_forward_pass(w, b, X)\n",
    "    cost = multiclass_cost(out, Y)\n",
    "    learning_rate, momentum, epochs, batch_size = 0.01, 0.9, 1000, 1000\n",
    "    num_batches = train_X.shape[0] // batch_size\n",
    "    op_train = train_op(learning_rate, cost)\n",
    "    init = tf.global_variables_initializer()\n",
    "    \n",
    "saver = tf.train.Saver()\n",
    "epoch_cost_trace = []\n",
    "epoch_accuracy_trace = []"
   ]
  },
  {
   "cell_type": "code",
   "execution_count": 55,
   "metadata": {
    "scrolled": true
   },
   "outputs": [
    {
     "name": "stdout",
     "output_type": "stream",
     "text": [
      "Final training result -- Loss: 0.08803557035597888, Accuracy: 0.9743636363636363\n",
      "results on test dataset -- Loss: 0.1346062272787094, Accuracy: 0.9613\n"
     ]
    }
   ],
   "source": [
    "with tf.Session() as sess:\n",
    "    sess.run(init)\n",
    "\n",
    "    for i in range(epochs):\n",
    "        epoch_cost, epoch_accuracy = 0, 0\n",
    "\n",
    "        for j in range(num_batches):\n",
    "            sess.run(op_train, feed_dict = {X: train_X[(j*batch_size):((j+1)*batch_size)],\n",
    "                                            Y: train_Y[(j*batch_size):((j+1)*batch_size)]})\n",
    "            actual_batch_size = train_X[(j*batch_size):((j+1)*batch_size)].shape[0]\n",
    "            epoch_cost += actual_batch_size * sess.run(\n",
    "                cost, feed_dict = {X: train_X[(j*batch_size):((j+1)*batch_size)],\n",
    "                                   Y: train_Y[(j*batch_size):((j+1)*batch_size)]})\n",
    "\n",
    "        epoch_cost = epoch_cost/float(train_X.shape[0])\n",
    "        epoch_accuracy = np.mean(\n",
    "            np.argmax(\n",
    "                sess.run(out, feed_dict = {X: train_X, Y: train_Y}),\n",
    "                axis = 1) == np.argmax(train_Y, axis = 1))\n",
    "\n",
    "        epoch_cost_trace.append(epoch_cost)\n",
    "        epoch_accuracy_trace.append(epoch_accuracy)\n",
    "\n",
    "    print(f'Final training result -- Loss: {epoch_cost}, Accuracy: {epoch_accuracy}')\n",
    "    loss_test = sess.run(cost, feed_dict = {X: test_X, Y: test_Y})\n",
    "    test_pred = np.argmax(sess.run(out, feed_dict = {X: test_X, Y: test_Y}), axis = 1)\n",
    "    accuracy_test = np.mean(test_pred == np.argmax(test_Y, axis = 1))\n",
    "    print(f'results on test dataset -- Loss: {loss_test}, Accuracy: {accuracy_test}')\n",
    "\n",
    "    saver.save(sess, 'mnist/mnist_mlp_momentum.chkp')"
   ]
  },
  {
   "cell_type": "code",
   "execution_count": 56,
   "metadata": {},
   "outputs": [
    {
     "data": {
      "image/png": "[encoded data removed]",
      "text/plain": [
       "<matplotlib.figure.Figure at 0x7f0e9104f358>"
      ]
     },
     "metadata": {},
     "output_type": "display_data"
    }
   ],
   "source": [
    "plt.figure(figsize=(20,5))\n",
    "plt.subplot(121)\n",
    "plt.plot(epoch_cost_trace)\n",
    "plt.title('Epoch Loss')\n",
    "plt.subplot(122)\n",
    "plt.plot(epoch_accuracy_trace)\n",
    "plt.title('Epoch Accuracy')\n",
    "plt.subplots_adjust(left=0.2, wspace=0.8, top=0.8)\n",
    "plt.show()"
   ]
  },
  {
   "cell_type": "code",
   "execution_count": 60,
   "metadata": {
    "scrolled": true
   },
   "outputs": [
    {
     "name": "stdout",
     "output_type": "stream",
     "text": [
      "Actual_digits:    [7 2 1 0 4 1 4 9 5 9]\n",
      "Predicted digits: [7 2 1 0 4 1 4 9 6 9]\n",
      "Actual images of the digits:\n"
     ]
    },
    {
     "data": {
      "image/png": "[encoded data removed]",
      "text/plain": [
       "<matplotlib.figure.Figure at 0x7f0e6825fba8>"
      ]
     },
     "metadata": {},
     "output_type": "display_data"
    }
   ],
   "source": [
    "import matplotlib.pyplot as plt\n",
    "%matplotlib inline\n",
    "f, a = plt.subplots(1, 10, figsize = (10, 2))\n",
    "print('Actual_digits:    {}'.format(np.argmax(test_Y[0:10], axis = 1)))\n",
    "print('Predicted digits: {}'.format(test_pred[0:10]))\n",
    "print('Actual images of the digits:')\n",
    "for j in range(10):\n",
    "    a[j].imshow(np.reshape(test_X[j], (28, 28)), cmap='gray')"
   ]
  }
 ],
 "metadata": {
  "kernelspec": {
   "display_name": "Python 3",
   "language": "python",
   "name": "python3"
  },
  "language_info": {
   "codemirror_mode": {
    "name": "ipython",
    "version": 3
   },
   "file_extension": ".py",
   "mimetype": "text/x-python",
   "name": "python",
   "nbconvert_exporter": "python",
   "pygments_lexer": "ipython3",
   "version": "3.6.3"
  }
 },
 "nbformat": 4,
 "nbformat_minor": 2
}
